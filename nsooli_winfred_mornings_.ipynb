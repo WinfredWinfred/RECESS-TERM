{
 "cells": [
  {
   "cell_type": "code",
   "execution_count": 1,
   "id": "135e4e8b",
   "metadata": {},
   "outputs": [],
   "source": [
    "import requests\n",
    "from bs4 import BeautifulSoup\n",
    "import csv"
   ]
  },
  {
   "cell_type": "code",
   "execution_count": 2,
   "id": "e096b732",
   "metadata": {},
   "outputs": [
    {
     "name": "stdout",
     "output_type": "stream",
     "text": [
      "<title>xeno-canto :: Sharing wildlife sounds from around the world</title>\n"
     ]
    }
   ],
   "source": [
    "url = 'https://xeno-canto.org'\n",
    "response = requests.get(url)\n",
    "\n",
    "#Get title of the website\n",
    "soup = BeautifulSoup(response.content, 'html.parser')\n",
    "title = soup.find('title')\n",
    "print(title)"
   ]
  },
  {
   "cell_type": "code",
   "execution_count": 3,
   "id": "9195b037",
   "metadata": {},
   "outputs": [
    {
     "name": "stdout",
     "output_type": "stream",
     "text": [
      "Defaulting to user installation because normal site-packages is not writeable\n",
      "Requirement already satisfied: requests in c:\\programdata\\anaconda3\\lib\\site-packages (2.28.1)\n",
      "Requirement already satisfied: idna<4,>=2.5 in c:\\programdata\\anaconda3\\lib\\site-packages (from requests) (3.4)\n",
      "Requirement already satisfied: charset-normalizer<3,>=2 in c:\\programdata\\anaconda3\\lib\\site-packages (from requests) (2.0.4)\n",
      "Requirement already satisfied: certifi>=2017.4.17 in c:\\programdata\\anaconda3\\lib\\site-packages (from requests) (2022.12.7)\n",
      "Requirement already satisfied: urllib3<1.27,>=1.21.1 in c:\\programdata\\anaconda3\\lib\\site-packages (from requests) (1.26.14)\n",
      "Note: you may need to restart the kernel to use updated packages.\n"
     ]
    }
   ],
   "source": [
    "pip install requests"
   ]
  },
  {
   "cell_type": "code",
   "execution_count": 4,
   "id": "4488bc54",
   "metadata": {},
   "outputs": [],
   "source": [
    "import csv"
   ]
  },
  {
   "cell_type": "code",
   "execution_count": 5,
   "id": "43225aa6",
   "metadata": {},
   "outputs": [
    {
     "name": "stdout",
     "output_type": "stream",
     "text": [
      "[]\n",
      "Bird Species Data:\n",
      "CSV file generated successfully.\n"
     ]
    }
   ],
   "source": [
    "def extract_data():\n",
    "    base_url = \"https://xeno-canto.org\"\n",
    "    url = f\"{base_url}/species/browse.php\"\n",
    "\n",
    "    bird_data = []\n",
    "\n",
    "    while url:\n",
    "        response = requests.get(url)\n",
    "        soup = BeautifulSoup(response.text, \"html.parser\")\n",
    "\n",
    "        for row in soup.select(\".species-list .species\"):\n",
    "            species_name = row.select_one(\"a\").text.strip()\n",
    "            family_name = row.select_one(\".family\").text.strip()\n",
    "\n",
    "            # extracting the subspecies, latest species, latest articles,\n",
    "            # location, date, recordists, and recording time (if available).\n",
    "            subspecies = row.select_one(\".subspecies\").text.strip()\n",
    "            latest_species = row.select_one(\".latest_species\").text.strip()\n",
    "            latest_articles = row.select_one(\".latest_articles\").text.strip()\n",
    "            location = row.select_one(\".location\").text.strip()\n",
    "            date = row.select_one(\".date\").text.strip()\n",
    "            recordists = row.select_one(\".recordist\").text.strip()\n",
    "            recording_time = row.select_one(\".time\").text.strip()\n",
    "\n",
    "            # Extract the species' taxonomy (order, family, genus, species)\n",
    "            taxonomy = [item.text.strip() for item in row.select(\".taxonomy a\")]\n",
    "\n",
    "            bird_data.append({\n",
    "                \"Species\": species_name,\n",
    "                \"Family\": family_name,\n",
    "                \"Subspecies\": subspecies,\n",
    "                \"Latest Species\": latest_species,\n",
    "                \"Latest Articles\": latest_articles,\n",
    "                \"Location\": location,\n",
    "                \"Date\": date,\n",
    "                \"Recordists\": recordists,\n",
    "                \"Recording Time\": recording_time,\n",
    "                \"Taxonomy\": \", \".join(taxonomy),  # Convert taxonomy list to a comma-separated string\n",
    "            })\n",
    "\n",
    "        next_page = soup.select_one(\"li.next a\")\n",
    "        url = base_url + next_page[\"href\"] if next_page else None\n",
    "        \n",
    "    print(bird_data)\n",
    "\n",
    "    return bird_data\n",
    "\n",
    "def save_to_csv(data, filename):\n",
    "    keys = data[0].keys() if data else []\n",
    "    with open(filename, mode=\"w\", newline=\"\", encoding=\"utf-8\") as file:\n",
    "        writer = csv.DictWriter(file, fieldnames=keys)\n",
    "        writer.writeheader()\n",
    "        writer.writerows(data)\n",
    "\n",
    "if __name__ == \"__main__\":\n",
    "    bird_data = extract_data()\n",
    "\n",
    "    # Print the list of bird species data before saving to CSV\n",
    "    print(\"Bird Species Data:\")\n",
    "    for bird in bird_data:\n",
    "        print(bird)\n",
    "\n",
    "    # Save the bird species data to CSV\n",
    "    save_to_csv(bird_data, \"bird_data.csv\")\n",
    "    print(\"CSV file generated successfully.\")"
   ]
  },
  {
   "cell_type": "code",
   "execution_count": 6,
   "id": "fa4653d9",
   "metadata": {},
   "outputs": [
    {
     "name": "stdout",
     "output_type": "stream",
     "text": [
      "Total bird songs extracted: 9736\n",
      "[{'id': '676311', 'gen': 'Grallaria', 'sp': 'saturata', 'ssp': '', 'group': 'birds', 'en': 'Equatorial Antpitta', 'rec': 'Galo Real', 'cnt': 'Ecuador', 'loc': 'Papallacta, Quijos, Napo', 'lat': '-0.3766', 'lng': '-78.1603', 'alt': '3400', 'type': '', 'sex': 'male', 'stage': 'adult', 'method': 'field recording', 'url': '//xeno-canto.org/676311', 'file': 'https://xeno-canto.org/676311/download', 'file-name': 'XC676311-Equatorial Antpitta .mp3', 'sono': {'small': '//xeno-canto.org/sounds/uploaded/GHVYOJSPRJ/ffts/XC676311-small.png', 'med': '//xeno-canto.org/sounds/uploaded/GHVYOJSPRJ/ffts/XC676311-med.png', 'large': '//xeno-canto.org/sounds/uploaded/GHVYOJSPRJ/ffts/XC676311-large.png', 'full': '//xeno-canto.org/sounds/uploaded/GHVYOJSPRJ/ffts/XC676311-full.png'}, 'osci': {'small': '//xeno-canto.org/sounds/uploaded/GHVYOJSPRJ/wave/XC676311-small.png', 'med': '//xeno-canto.org/sounds/uploaded/GHVYOJSPRJ/wave/XC676311-med.png', 'large': '//xeno-canto.org/sounds/uploaded/GHVYOJSPRJ/wave/XC676311-large.png'}, 'lic': '//creativecommons.org/licenses/by-nc-sa/4.0/', 'q': 'A', 'length': '0:37', 'time': '13:30', 'date': '2011-03-09', 'uploaded': '2021-09-22', 'also': [], 'rmk': '', 'bird-seen': 'yes', 'animal-seen': 'yes', 'playback-used': 'no', 'temp': '', 'regnr': '', 'auto': 'no', 'dvc': '', 'mic': '', 'smp': '44100'}, {'id': '666766', 'gen': 'Grallaria', 'sp': 'saturata', 'ssp': '', 'group': 'birds', 'en': 'Equatorial Antpitta', 'rec': 'Leonardo Ordóñez-Delgado', 'cnt': 'Ecuador', 'loc': 'Reserva Numbala, Palanda, Zamora Chinchipe', 'lat': '-4.4051', 'lng': '-79.0893', 'alt': '2900', 'type': 'song', 'sex': 'uncertain', 'stage': 'uncertain', 'method': 'field recording', 'url': '//xeno-canto.org/666766', 'file': 'https://xeno-canto.org/666766/download', 'file-name': 'XC666766-080007 Grallaria rufula XC.mp3', 'sono': {'small': '//xeno-canto.org/sounds/uploaded/RJNSQXBIJE/ffts/XC666766-small.png', 'med': '//xeno-canto.org/sounds/uploaded/RJNSQXBIJE/ffts/XC666766-med.png', 'large': '//xeno-canto.org/sounds/uploaded/RJNSQXBIJE/ffts/XC666766-large.png', 'full': '//xeno-canto.org/sounds/uploaded/RJNSQXBIJE/ffts/XC666766-full.png'}, 'osci': {'small': '//xeno-canto.org/sounds/uploaded/RJNSQXBIJE/wave/XC666766-small.png', 'med': '//xeno-canto.org/sounds/uploaded/RJNSQXBIJE/wave/XC666766-med.png', 'large': '//xeno-canto.org/sounds/uploaded/RJNSQXBIJE/wave/XC666766-large.png'}, 'lic': '//creativecommons.org/licenses/by-nc-nd/4.0/', 'q': 'A', 'length': '1:38', 'time': '07:00', 'date': '2021-06-07', 'uploaded': '2021-08-07', 'also': [], 'rmk': '', 'bird-seen': 'no', 'animal-seen': 'no', 'playback-used': 'no', 'temp': '', 'regnr': '', 'auto': 'no', 'dvc': '', 'mic': '', 'smp': '44100'}, {'id': '506969', 'gen': 'Grallaria', 'sp': 'saturata', 'ssp': '', 'group': 'birds', 'en': 'Equatorial Antpitta', 'rec': 'David Monroy Rengifo', 'cnt': 'Colombia', 'loc': 'Road to Nevado del Ruiz, above Manizales, Caldas, C Andes', 'lat': '4.9992', 'lng': '-75.3484', 'alt': '3700', 'type': 'song', 'sex': 'uncertain', 'stage': '', 'method': 'field recording', 'url': '//xeno-canto.org/506969', 'file': 'https://xeno-canto.org/506969/download', 'file-name': 'XC506969-170508461.mp3', 'sono': {'small': '//xeno-canto.org/sounds/uploaded/MAVGCHPXII/ffts/XC506969-small.png', 'med': '//xeno-canto.org/sounds/uploaded/MAVGCHPXII/ffts/XC506969-med.png', 'large': '//xeno-canto.org/sounds/uploaded/MAVGCHPXII/ffts/XC506969-large.png', 'full': '//xeno-canto.org/sounds/uploaded/MAVGCHPXII/ffts/XC506969-full.png'}, 'osci': {'small': '//xeno-canto.org/sounds/uploaded/MAVGCHPXII/wave/XC506969-small.png', 'med': '//xeno-canto.org/sounds/uploaded/MAVGCHPXII/wave/XC506969-med.png', 'large': '//xeno-canto.org/sounds/uploaded/MAVGCHPXII/wave/XC506969-large.png'}, 'lic': '//creativecommons.org/licenses/by-nc-sa/4.0/', 'q': 'A', 'length': '0:11', 'time': '08:30', 'date': '2019-07-27', 'uploaded': '2019-11-15', 'also': [], 'rmk': '', 'bird-seen': 'yes', 'animal-seen': 'yes', 'playback-used': 'no', 'temp': '', 'regnr': '', 'auto': 'no', 'dvc': '', 'mic': '', 'smp': '44100'}, {'id': '436107', 'gen': 'Grallaria', 'sp': 'saturata', 'ssp': '', 'group': 'birds', 'en': 'Equatorial Antpitta', 'rec': 'Yair Guillermo Molina Martínez.', 'cnt': 'Colombia', 'loc': 'La Linea, ruta entre el Corregimiento de Toche - Salento, Cajamarca, Tolima', 'lat': '4.5597', 'lng': '-75.4956', 'alt': '3400', 'type': 'song', 'sex': '', 'stage': '', 'method': 'field recording', 'url': '//xeno-canto.org/436107', 'file': 'https://xeno-canto.org/436107/download', 'file-name': 'XC436107-Grallaria rufula - Cajamarca 16 09 2018 OTRO IND11 50 AM 3.mp3', 'sono': {'small': '//xeno-canto.org/sounds/uploaded/UQUOPFIYYQ/ffts/XC436107-small.png', 'med': '//xeno-canto.org/sounds/uploaded/UQUOPFIYYQ/ffts/XC436107-med.png', 'large': '//xeno-canto.org/sounds/uploaded/UQUOPFIYYQ/ffts/XC436107-large.png', 'full': '//xeno-canto.org/sounds/uploaded/UQUOPFIYYQ/ffts/XC436107-full.png'}, 'osci': {'small': '//xeno-canto.org/sounds/uploaded/UQUOPFIYYQ/wave/XC436107-small.png', 'med': '//xeno-canto.org/sounds/uploaded/UQUOPFIYYQ/wave/XC436107-med.png', 'large': '//xeno-canto.org/sounds/uploaded/UQUOPFIYYQ/wave/XC436107-large.png'}, 'lic': '//creativecommons.org/licenses/by-nc-sa/4.0/', 'q': 'A', 'length': '0:29', 'time': '11:55', 'date': '2018-09-16', 'uploaded': '2018-09-27', 'also': [], 'rmk': 'Individuo diferente al registrado en ML116201201', 'bird-seen': 'no', 'animal-seen': 'no', 'playback-used': 'yes', 'temp': '', 'regnr': '', 'auto': 'no', 'dvc': '', 'mic': '', 'smp': '48000'}, {'id': '386207', 'gen': 'Grallaria', 'sp': 'saturata', 'ssp': '', 'group': 'birds', 'en': 'Equatorial Antpitta', 'rec': 'Jerome Fischer', 'cnt': 'Ecuador', 'loc': 'Provincia de Napo', 'lat': '-0.3574', 'lng': '-78.1499', 'alt': '3400', 'type': 'song', 'sex': '', 'stage': '', 'method': 'field recording', 'url': '//xeno-canto.org/386207', 'file': 'https://xeno-canto.org/386207/download', 'file-name': 'XC386207-Rufous Antpitta, 13.09.mp3', 'sono': {'small': '//xeno-canto.org/sounds/uploaded/JPBSNBUUEF/ffts/XC386207-small.png', 'med': '//xeno-canto.org/sounds/uploaded/JPBSNBUUEF/ffts/XC386207-med.png', 'large': '//xeno-canto.org/sounds/uploaded/JPBSNBUUEF/ffts/XC386207-large.png', 'full': '//xeno-canto.org/sounds/uploaded/JPBSNBUUEF/ffts/XC386207-full.png'}, 'osci': {'small': '//xeno-canto.org/sounds/uploaded/JPBSNBUUEF/wave/XC386207-small.png', 'med': '//xeno-canto.org/sounds/uploaded/JPBSNBUUEF/wave/XC386207-med.png', 'large': '//xeno-canto.org/sounds/uploaded/JPBSNBUUEF/wave/XC386207-large.png'}, 'lic': '//creativecommons.org/licenses/by-nc-sa/4.0/', 'q': 'A', 'length': '0:49', 'time': '10:00', 'date': '2017-09-13', 'uploaded': '2017-09-13', 'also': [], 'rmk': '', 'bird-seen': 'yes', 'animal-seen': 'yes', 'playback-used': 'no', 'temp': '', 'regnr': '', 'auto': 'no', 'dvc': '', 'mic': '', 'smp': '44100'}, {'id': '202061', 'gen': 'Grallaria', 'sp': 'saturata', 'ssp': '', 'group': 'birds', 'en': 'Equatorial Antpitta', 'rec': 'Juan M Aguilar', 'cnt': 'Ecuador', 'loc': 'Azuay', 'lat': '-2.843', 'lng': '-79.1528', 'alt': '3200', 'type': 'song', 'sex': '', 'stage': '', 'method': 'field recording', 'url': '//xeno-canto.org/202061', 'file': 'https://xeno-canto.org/202061/download', 'file-name': 'XC202061-Grufula.mp3', 'sono': {'small': '//xeno-canto.org/sounds/uploaded/DHUCTAEKYP/ffts/XC202061-small.png', 'med': '//xeno-canto.org/sounds/uploaded/DHUCTAEKYP/ffts/XC202061-med.png', 'large': '//xeno-canto.org/sounds/uploaded/DHUCTAEKYP/ffts/XC202061-large.png', 'full': '//xeno-canto.org/sounds/uploaded/DHUCTAEKYP/ffts/XC202061-full.png'}, 'osci': {'small': '//xeno-canto.org/sounds/uploaded/DHUCTAEKYP/wave/XC202061-small.png', 'med': '//xeno-canto.org/sounds/uploaded/DHUCTAEKYP/wave/XC202061-med.png', 'large': '//xeno-canto.org/sounds/uploaded/DHUCTAEKYP/wave/XC202061-large.png'}, 'lic': '//creativecommons.org/licenses/by-nc-sa/4.0/', 'q': 'A', 'length': '0:22', 'time': '08:00', 'date': '2014-11-05', 'uploaded': '2014-11-10', 'also': [], 'rmk': '', 'bird-seen': 'yes', 'animal-seen': 'yes', 'playback-used': 'no', 'temp': '', 'regnr': '', 'auto': 'no', 'dvc': '', 'mic': '', 'smp': '44100'}, {'id': '29517', 'gen': 'Grallaria', 'sp': 'saturata', 'ssp': '', 'group': 'birds', 'en': 'Equatorial Antpitta', 'rec': 'Niels Krabbe', 'cnt': 'Colombia', 'loc': 'Tolima: 10 km NW Roncesvalles', 'lat': '4.0167', 'lng': '-75.6334', 'alt': '3000', 'type': 'call, song, call/alternate song', 'sex': '', 'stage': '', 'method': 'field recording', 'url': '//xeno-canto.org/29517', 'file': 'https://xeno-canto.org/29517/download', 'file-name': 'Grallaria_rufula_2001_03_04_B_86-99_call.mp3', 'sono': {'small': '//xeno-canto.org/sounds/uploaded/XTVEPHMPPJ/ffts/XC29517-small.png', 'med': '//xeno-canto.org/sounds/uploaded/XTVEPHMPPJ/ffts/XC29517-med.png', 'large': '//xeno-canto.org/sounds/uploaded/XTVEPHMPPJ/ffts/XC29517-large.png', 'full': '//xeno-canto.org/sounds/uploaded/XTVEPHMPPJ/ffts/XC29517-full.png'}, 'osci': {'small': '//xeno-canto.org/sounds/uploaded/XTVEPHMPPJ/wave/XC29517-small.png', 'med': '//xeno-canto.org/sounds/uploaded/XTVEPHMPPJ/wave/XC29517-med.png', 'large': '//xeno-canto.org/sounds/uploaded/XTVEPHMPPJ/wave/XC29517-large.png'}, 'lic': '//creativecommons.org/licenses/by-nc-sa/3.0/', 'q': 'A', 'length': '0:36', 'time': 'xx:xx', 'date': '2001-03-04', 'uploaded': '2009-02-04', 'also': [], 'rmk': 'Tape ref. B 86-99', 'bird-seen': 'unknown', 'animal-seen': 'unknown', 'playback-used': 'unknown', 'temp': '', 'regnr': '', 'auto': 'no', 'dvc': '', 'mic': '', 'smp': '44100'}, {'id': '771599', 'gen': 'Grallaria', 'sp': 'saturata', 'ssp': '', 'group': 'birds', 'en': 'Equatorial Antpitta', 'rec': 'David Monroy Rengifo', 'cnt': 'Colombia', 'loc': 'Finca Cortaderal, Santa Rosa de Cabal, Risaralda', 'lat': '4.8597', 'lng': '-75.4886', 'alt': '3100', 'type': 'call', 'sex': 'uncertain', 'stage': '', 'method': 'field recording', 'url': '//xeno-canto.org/771599', 'file': 'https://xeno-canto.org/771599/download', 'file-name': 'XC771599-220702-001---Grallaria-saturata_482761771.mp3', 'sono': {'small': '//xeno-canto.org/sounds/uploaded/MAVGCHPXII/ffts/XC771599-small.png', 'med': '//xeno-canto.org/sounds/uploaded/MAVGCHPXII/ffts/XC771599-med.png', 'large': '//xeno-canto.org/sounds/uploaded/MAVGCHPXII/ffts/XC771599-large.png', 'full': '//xeno-canto.org/sounds/uploaded/MAVGCHPXII/ffts/XC771599-full.png'}, 'osci': {'small': '//xeno-canto.org/sounds/uploaded/MAVGCHPXII/wave/XC771599-small.png', 'med': '//xeno-canto.org/sounds/uploaded/MAVGCHPXII/wave/XC771599-med.png', 'large': '//xeno-canto.org/sounds/uploaded/MAVGCHPXII/wave/XC771599-large.png'}, 'lic': '//creativecommons.org/licenses/by-nc-sa/4.0/', 'q': 'B', 'length': '0:17', 'time': '08:00', 'date': '2022-07-02', 'uploaded': '2022-12-27', 'also': [], 'rmk': '', 'bird-seen': 'no', 'animal-seen': 'no', 'playback-used': 'no', 'temp': '', 'regnr': '', 'auto': 'no', 'dvc': '', 'mic': '', 'smp': '44100'}, {'id': '767031', 'gen': 'Grallaria', 'sp': 'saturata', 'ssp': '', 'group': 'birds', 'en': 'Equatorial Antpitta', 'rec': 'Bram Vogels', 'cnt': 'Ecuador', 'loc': 'Sayausi (near  Culebrillas), Cuenca, Azuay', 'lat': '-2.8442', 'lng': '-79.1437', 'alt': '3200', 'type': 'song', 'sex': '', 'stage': '', 'method': 'field recording', 'url': '//xeno-canto.org/767031', 'file': 'https://xeno-canto.org/767031/download', 'file-name': 'XC767031-Equatorial-antpitta-4.mp3', 'sono': {'small': '//xeno-canto.org/sounds/uploaded/EJIITXAJNY/ffts/XC767031-small.png', 'med': '//xeno-canto.org/sounds/uploaded/EJIITXAJNY/ffts/XC767031-med.png', 'large': '//xeno-canto.org/sounds/uploaded/EJIITXAJNY/ffts/XC767031-large.png', 'full': '//xeno-canto.org/sounds/uploaded/EJIITXAJNY/ffts/XC767031-full.png'}, 'osci': {'small': '//xeno-canto.org/sounds/uploaded/EJIITXAJNY/wave/XC767031-small.png', 'med': '//xeno-canto.org/sounds/uploaded/EJIITXAJNY/wave/XC767031-med.png', 'large': '//xeno-canto.org/sounds/uploaded/EJIITXAJNY/wave/XC767031-large.png'}, 'lic': '//creativecommons.org/licenses/by-nc-sa/4.0/', 'q': 'B', 'length': '0:24', 'time': '10:00', 'date': '2022-11-11', 'uploaded': '2022-12-09', 'also': [], 'rmk': '', 'bird-seen': 'yes', 'animal-seen': 'yes', 'playback-used': 'no', 'temp': '', 'regnr': '', 'auto': 'no', 'dvc': '', 'mic': '', 'smp': '44100'}, {'id': '767027', 'gen': 'Grallaria', 'sp': 'saturata', 'ssp': '', 'group': 'birds', 'en': 'Equatorial Antpitta', 'rec': 'Bram Vogels', 'cnt': 'Ecuador', 'loc': 'Sayausi (near  Culebrillas), Cuenca, Azuay', 'lat': '-2.8442', 'lng': '-79.1437', 'alt': '3200', 'type': 'song', 'sex': '', 'stage': '', 'method': 'field recording', 'url': '//xeno-canto.org/767027', 'file': 'https://xeno-canto.org/767027/download', 'file-name': 'XC767027-Equatorial-antpitta-4.mp3', 'sono': {'small': '//xeno-canto.org/sounds/uploaded/EJIITXAJNY/ffts/XC767027-small.png', 'med': '//xeno-canto.org/sounds/uploaded/EJIITXAJNY/ffts/XC767027-med.png', 'large': '//xeno-canto.org/sounds/uploaded/EJIITXAJNY/ffts/XC767027-large.png', 'full': '//xeno-canto.org/sounds/uploaded/EJIITXAJNY/ffts/XC767027-full.png'}, 'osci': {'small': '//xeno-canto.org/sounds/uploaded/EJIITXAJNY/wave/XC767027-small.png', 'med': '//xeno-canto.org/sounds/uploaded/EJIITXAJNY/wave/XC767027-med.png', 'large': '//xeno-canto.org/sounds/uploaded/EJIITXAJNY/wave/XC767027-large.png'}, 'lic': '//creativecommons.org/licenses/by-nc-sa/4.0/', 'q': 'B', 'length': '0:24', 'time': '10:00', 'date': '2022-11-11', 'uploaded': '2022-12-09', 'also': [], 'rmk': '', 'bird-seen': 'yes', 'animal-seen': 'yes', 'playback-used': 'no', 'temp': '', 'regnr': '', 'auto': 'no', 'dvc': '', 'mic': '', 'smp': '44100'}]\n"
     ]
    }
   ],
   "source": [
    "#Extracting of bird songs\n",
    "\n",
    "def extract_bird_songs():\n",
    "    base_url = \"https://xeno-canto.org/api/2/recordings\"\n",
    "    bird_songs = []\n",
    "\n",
    "    page = 1\n",
    "    while True:\n",
    "        params = {\"query\": \"q\", \"page\": page}\n",
    "        response = requests.get(base_url, params=params)\n",
    "\n",
    "        if response.status_code != 200:\n",
    "            break\n",
    "\n",
    "        data = response.json()\n",
    "        if not data[\"recordings\"]:\n",
    "            break\n",
    "\n",
    "        bird_songs.extend(data[\"recordings\"])\n",
    "        page += 1\n",
    "\n",
    "    return bird_songs\n",
    "\n",
    "if __name__ == \"__main__\":\n",
    "    bird_songs_data = extract_bird_songs()\n",
    "    print(f\"Total bird songs extracted: {len(bird_songs_data)}\")\n",
    "\n",
    "    # Print the first few entries to get an idea of the data structure\n",
    "    print(bird_songs_data[:10])\n"
   ]
  },
  {
   "cell_type": "code",
   "execution_count": 7,
   "id": "46309395",
   "metadata": {},
   "outputs": [],
   "source": [
    "import pandas as pd"
   ]
  },
  {
   "cell_type": "code",
   "execution_count": 8,
   "id": "8a95dca7",
   "metadata": {},
   "outputs": [
    {
     "name": "stdout",
     "output_type": "stream",
     "text": [
      "Saved to file\n"
     ]
    }
   ],
   "source": [
    "#Using pandas to add data to a csv file\n",
    "df = pd.DataFrame(bird_data)\n",
    "df.to_csv('bird_species.csv')\n",
    "df.to_excel('bird_species.xlsx')\n",
    "print('Saved to file')"
   ]
  },
  {
   "cell_type": "code",
   "execution_count": 9,
   "id": "6efbf45f",
   "metadata": {},
   "outputs": [
    {
     "name": "stdout",
     "output_type": "stream",
     "text": [
      "No bird data found. Please check the website's structure or try again later.\n"
     ]
    }
   ],
   "source": [
    "#Extracting location and geographical information, time and date and printing it out\n",
    "\n",
    "def extract_location_data():\n",
    "    url = \"https://xeno-canto.org\"\n",
    "    response = requests.get(url)\n",
    "    bsobj = BeautifulSoup(response.content, 'html.parser')\n",
    "\n",
    "    bird_list = bsobj.select('.species-list .species')\n",
    "\n",
    "    if not bird_list:\n",
    "        print(\"No bird data found. Please check the website's structure or try again later.\")\n",
    "        return\n",
    "\n",
    "    for bird in bird_list:\n",
    "        location_element = bird.select_one(\".location\")\n",
    "        date_element = bird.select_one(\".date\")\n",
    "        time_element = bird.select_one(\".time\")\n",
    "\n",
    "        if location_element and date_element and time_element:\n",
    "            location = location_element.text.strip()\n",
    "            date = date_element.text.strip()\n",
    "            recording_time = time_element.text.strip()\n",
    "\n",
    "            print(f\"Location: {location}, Date: {date}, Time: {recording_time}\")\n",
    "        else:\n",
    "            print(\"Incomplete data for a bird recording. Skipping this entry.\")\n",
    "\n",
    "if __name__ == \"__main__\":\n",
    "    extract_location_data()\n",
    "\n"
   ]
  },
  {
   "cell_type": "code",
   "execution_count": null,
   "id": "ae41cead",
   "metadata": {},
   "outputs": [],
   "source": []
  }
 ],
 "metadata": {
  "kernelspec": {
   "display_name": "Python 3 (ipykernel)",
   "language": "python",
   "name": "python3"
  },
  "language_info": {
   "codemirror_mode": {
    "name": "ipython",
    "version": 3
   },
   "file_extension": ".py",
   "mimetype": "text/x-python",
   "name": "python",
   "nbconvert_exporter": "python",
   "pygments_lexer": "ipython3",
   "version": "3.10.9"
  }
 },
 "nbformat": 4,
 "nbformat_minor": 5
}
